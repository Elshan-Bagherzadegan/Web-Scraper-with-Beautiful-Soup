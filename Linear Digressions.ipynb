{
 "cells": [
  {
   "cell_type": "code",
   "execution_count": 16,
   "metadata": {},
   "outputs": [],
   "source": [
    "import requests"
   ]
  },
  {
   "cell_type": "code",
   "execution_count": 17,
   "metadata": {},
   "outputs": [],
   "source": [
    "from requests import get"
   ]
  },
  {
   "cell_type": "code",
   "execution_count": 18,
   "metadata": {},
   "outputs": [],
   "source": [
    "from bs4 import BeautifulSoup as bs"
   ]
  },
  {
   "cell_type": "code",
   "execution_count": 19,
   "metadata": {},
   "outputs": [],
   "source": [
    "url = 'http://lineardigressions.com/'"
   ]
  },
  {
   "cell_type": "code",
   "execution_count": 20,
   "metadata": {},
   "outputs": [],
   "source": [
    "response=requests.get(url)"
   ]
  },
  {
   "cell_type": "code",
   "execution_count": 21,
   "metadata": {},
   "outputs": [],
   "source": [
    "soup=bs(response.text,'html.parser')"
   ]
  },
  {
   "cell_type": "code",
   "execution_count": 22,
   "metadata": {},
   "outputs": [],
   "source": [
    "a= soup.find_all(\"a\")"
   ]
  },
  {
   "cell_type": "code",
   "execution_count": 87,
   "metadata": {},
   "outputs": [
    {
     "name": "stdout",
     "output_type": "stream",
     "text": [
      "['Episodes', 'Contact', 'Menu', '\\n                \\n                  Linear Digressions\\n                \\n              ', 'Episodes', 'Contact', 'The work-from-home episode', 'March 29, 2020', 'Understanding Covid-19 transmission: what the data suggests about how the disease spreads', 'March 22, 2020', 'Substantial undocumented infection facilitates the rapid dissemination of novel coronavirus (SARS-CoV2)', 'Simulation Sunday: Dayton wins first title as SportsLine simulates entire 2020 NCAA Tournament', 'Network effects re-release: when the power of a public health measure lies in widespread adoption', 'March 15, 2020', 'Toward causal inference with interference', \"Causal inference when you can't experiment: difference-in-differences and synthetic controls\", 'March 08, 2020', 'Want to make good business decisions? Learn causality', 'Synthetic control methods for comparative case studies: Estimating the effect of California’s Tobacco Control Program', 'Consumer heterogeneity and paid search effectiveness: A large scale field experiment', 'Better know a distribution: the Poisson distribution', 'March 01, 2020', 'The Lottery Ticket Hypothesis', 'February 23, 2020', 'The lottery ticket hypothesis: finding sparse, trainable neural networks', 'Deconstructing lottery tickets: zeros, signs, and the supermask', 'Interesting technical issues prompted by GDPR and data privacy concerns', 'February 16, 2020', 'Search Optimization for Large Datasets for GDPR', 'Probabilistic data structures: Bloom filter', '“Amnesia”—Towards Machine Learning Models that Can Forget User Data Very Fast', 'Thinking of data science initiatives as innovation initiatives', 'February 09, 2020', 'The Innovator’s Dilemma', 'The Other Side of Innovation', 'Building a curriculum for educating data scientists: Interview with Prof. Xiao-Li Meng', 'February 02, 2020', 'Harvard Data Science Review website', 'Running experiments when there are network effects', 'January 26, 2020', 'Network A/B Testing: From Sampling to Estimation', 'Toward Causal Inference with Interference', 'Model robustness in the face of adversaries', 'January 19, 2020', 'Robustness may be at odds with accuracy', 'Adversarial examples are not bugs, they are features', 'Distill.pub: A discussion of “Adversarial examples are not bugs, they are features”', 'How can we fool LIME and SHAP? Adversarial attacks on post hoc explanation methods', 'UMAP: The latest in dimensionality reduction for clustering', 'January 12, 2020', 'Understanding UMAP', 'UMAP does not preserve global structure any better than t-SNE when using the same initialization', 'Data scientists: beware of simple metrics', 'January 05, 2020', 'The problem with metrics is a big problem for AI', 'Hidden stratification causes clinically meaningful failures in machine learning for medical imaging', 'Evaluating classification models, part 1: Weighing false positives against false negatives', 'Harvard Business Review: Don’t let metrics undermine your business', 'Communicating data science, from academia to industry', 'December 29, 2019', 'Harvard Data Science Review', 'Xiao-Li Meng’s academic webpage', 'Optimizing for the short-term vs. the long-term', 'December 22, 2019', 'Focus on the long term: it’s better for users and business', 'Consumers are becoming wise to your nudge', 'Interview with Prof. Andrew Lo, on using data science to inform complex business decisions', 'December 15, 2019', 'Machine learning with statistical imputation for predicting drug approvals', 'Using machine learning to predict drug approvals', 'December 08, 2019', 'Machine Learning with Statistical Imputation for Predicting Drug Approvals', 'Facial recognition, society, and the law', 'December 01, 2019', 'Should we be worried about computerized facial recognition? ', 'Facial recognition: it’s time for action', 'Microsoft calls on companies to adopt a facial recognition code of conduct', 'Lessons learned from doing data science, at scale, in industry', 'November 24, 2019', '150 Successful Machine Learning Models: 6 Lessons Learned at Booking.com', 'Varsity A/B Testing ', 'November 17, 2019', 'Experiments at Airbnb', '4 Principles for Making Experimentation Count', 'Experiment Reporting Framework', 'Scaling Airbnb’s Experimentation Platform', 'Next']\n"
     ]
    }
   ],
   "source": [
    "name_episodes=[]\n",
    "for name in a:\n",
    "    name_episodes.append(name.text)\n",
    "print(name_episodes)"
   ]
  },
  {
   "cell_type": "code",
   "execution_count": 70,
   "metadata": {},
   "outputs": [
    {
     "name": "stdout",
     "output_type": "stream",
     "text": [
      "['Episodes', 'Contact', 'Menu', '\\n                \\n                  Linear Digressions\\n                \\n              ', 'Episodes', 'Contact', 'The work-from-home episode', 'March 29, 2020', 'Understanding Covid-19 transmission: what the data suggests about how the disease spreads', 'March 22, 2020', 'Substantial undocumented infection facilitates the rapid dissemination of novel coronavirus (SARS-CoV2)', 'Simulation Sunday: Dayton wins first title as SportsLine simulates entire 2020 NCAA Tournament', 'Network effects re-release: when the power of a public health measure lies in widespread adoption', 'March 15, 2020', 'Toward causal inference with interference', \"Causal inference when you can't experiment: difference-in-differences and synthetic controls\", 'March 08, 2020', 'Want to make good business decisions? Learn causality', 'Synthetic control methods for comparative case studies: Estimating the effect of California’s Tobacco Control Program', 'Consumer heterogeneity and paid search effectiveness: A large scale field experiment', 'Better know a distribution: the Poisson distribution', 'March 01, 2020', 'The Lottery Ticket Hypothesis', 'February 23, 2020', 'The lottery ticket hypothesis: finding sparse, trainable neural networks', 'Deconstructing lottery tickets: zeros, signs, and the supermask', 'Interesting technical issues prompted by GDPR and data privacy concerns', 'February 16, 2020', 'Search Optimization for Large Datasets for GDPR', 'Probabilistic data structures: Bloom filter', '“Amnesia”—Towards Machine Learning Models that Can Forget User Data Very Fast', 'Thinking of data science initiatives as innovation initiatives', 'February 09, 2020', 'The Innovator’s Dilemma', 'The Other Side of Innovation', 'Building a curriculum for educating data scientists: Interview with Prof. Xiao-Li Meng', 'February 02, 2020', 'Harvard Data Science Review website', 'Running experiments when there are network effects', 'January 26, 2020', 'Network A/B Testing: From Sampling to Estimation', 'Toward Causal Inference with Interference', 'Model robustness in the face of adversaries', 'January 19, 2020', 'Robustness may be at odds with accuracy', 'Adversarial examples are not bugs, they are features', 'Distill.pub: A discussion of “Adversarial examples are not bugs, they are features”', 'How can we fool LIME and SHAP? Adversarial attacks on post hoc explanation methods', 'UMAP: The latest in dimensionality reduction for clustering', 'January 12, 2020', 'Understanding UMAP', 'UMAP does not preserve global structure any better than t-SNE when using the same initialization', 'Data scientists: beware of simple metrics', 'January 05, 2020', 'The problem with metrics is a big problem for AI', 'Hidden stratification causes clinically meaningful failures in machine learning for medical imaging', 'Evaluating classification models, part 1: Weighing false positives against false negatives', 'Harvard Business Review: Don’t let metrics undermine your business', 'Communicating data science, from academia to industry', 'December 29, 2019', 'Harvard Data Science Review', 'Xiao-Li Meng’s academic webpage', 'Optimizing for the short-term vs. the long-term', 'December 22, 2019', 'Focus on the long term: it’s better for users and business', 'Consumers are becoming wise to your nudge', 'Interview with Prof. Andrew Lo, on using data science to inform complex business decisions', 'December 15, 2019', 'Machine learning with statistical imputation for predicting drug approvals', 'Using machine learning to predict drug approvals', 'December 08, 2019', 'Machine Learning with Statistical Imputation for Predicting Drug Approvals', 'Facial recognition, society, and the law', 'December 01, 2019', 'Should we be worried about computerized facial recognition? ', 'Facial recognition: it’s time for action', 'Microsoft calls on companies to adopt a facial recognition code of conduct', 'Lessons learned from doing data science, at scale, in industry', 'November 24, 2019', '150 Successful Machine Learning Models: 6 Lessons Learned at Booking.com', 'Varsity A/B Testing ', 'November 17, 2019', 'Experiments at Airbnb', '4 Principles for Making Experimentation Count', 'Experiment Reporting Framework', 'Scaling Airbnb’s Experimentation Platform', 'Next']\n"
     ]
    }
   ],
   "source": [
    "b=[]\n",
    "\n",
    "for n in name_episodes:\n",
    "    n.split(',')\n",
    "    b.append(n)\n",
    "print(b)"
   ]
  },
  {
   "cell_type": "code",
   "execution_count": 100,
   "metadata": {
    "scrolled": false
   },
   "outputs": [
    {
     "name": "stdout",
     "output_type": "stream",
     "text": [
      "The work-from-home episode\n",
      "Understanding Covid-19 transmission: what the data suggests about how the disease spreads\n",
      "Network effects re-release: when the power of a public health measure lies in widespread adoption\n",
      "Causal inference when you can't experiment: difference-in-differences and synthetic controls\n",
      "Better know a distribution: the Poisson distribution\n",
      "The Lottery Ticket Hypothesis\n",
      "Interesting technical issues prompted by GDPR and data privacy concerns\n",
      "Thinking of data science initiatives as innovation initiatives\n",
      "Building a curriculum for educating data scientists: Interview with Prof. Xiao-Li Meng\n",
      "Running experiments when there are network effects\n",
      "Model robustness in the face of adversaries\n",
      "UMAP: The latest in dimensionality reduction for clustering\n",
      "Data scientists: beware of simple metrics\n",
      "Communicating data science, from academia to industry\n",
      "Optimizing for the short-term vs. the long-term\n",
      "Interview with Prof. Andrew Lo, on using data science to inform complex business decisions\n",
      "Using machine learning to predict drug approvals\n",
      "Facial recognition, society, and the law\n",
      "Lessons learned from doing data science, at scale, in industry\n",
      "Varsity A/B Testing \n"
     ]
    }
   ],
   "source": [
    "month= ('January','February','March','April','May','June','July','August','September','October','November','December')\n",
    "\n",
    "for word in range(len(b)):\n",
    "    if b[word].startswith(month):\n",
    "        print(b[word-1])\n",
    "        "
   ]
  }
 ],
 "metadata": {
  "kernelspec": {
   "display_name": "Python 3",
   "language": "python",
   "name": "python3"
  },
  "language_info": {
   "codemirror_mode": {
    "name": "ipython",
    "version": 3
   },
   "file_extension": ".py",
   "mimetype": "text/x-python",
   "name": "python",
   "nbconvert_exporter": "python",
   "pygments_lexer": "ipython3",
   "version": "3.8.2"
  }
 },
 "nbformat": 4,
 "nbformat_minor": 4
}
