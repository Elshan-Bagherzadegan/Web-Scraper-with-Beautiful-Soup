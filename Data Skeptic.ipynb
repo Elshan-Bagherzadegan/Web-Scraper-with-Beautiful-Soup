{
 "cells": [
  {
   "cell_type": "code",
   "execution_count": 39,
   "metadata": {},
   "outputs": [],
   "source": [
    "import requests"
   ]
  },
  {
   "cell_type": "code",
   "execution_count": 40,
   "metadata": {
    "scrolled": true
   },
   "outputs": [],
   "source": [
    "from requests import get"
   ]
  },
  {
   "cell_type": "code",
   "execution_count": 41,
   "metadata": {},
   "outputs": [
    {
     "name": "stdout",
     "output_type": "stream",
     "text": [
      "Requirement already satisfied: BeautifulSoup4 in c:\\users\\elsha\\appdata\\local\\programs\\python\\python38-32\\lib\\site-packages (4.8.2)\n",
      "Requirement already satisfied: soupsieve>=1.2 in c:\\users\\elsha\\appdata\\local\\programs\\python\\python38-32\\lib\\site-packages (from BeautifulSoup4) (2.0)\n",
      "Note: you may need to restart the kernel to use updated packages.\n"
     ]
    }
   ],
   "source": [
    "pip install BeautifulSoup4"
   ]
  },
  {
   "cell_type": "code",
   "execution_count": 42,
   "metadata": {},
   "outputs": [],
   "source": [
    "from bs4 import BeautifulSoup as bs"
   ]
  },
  {
   "cell_type": "code",
   "execution_count": 43,
   "metadata": {},
   "outputs": [],
   "source": [
    "url= 'https://dataskeptic.com/podcasts/2014'"
   ]
  },
  {
   "cell_type": "code",
   "execution_count": 44,
   "metadata": {},
   "outputs": [],
   "source": [
    "response=requests.get(url)"
   ]
  },
  {
   "cell_type": "code",
   "execution_count": 45,
   "metadata": {},
   "outputs": [],
   "source": [
    "soup=bs(response.text,'html.parser')"
   ]
  },
  {
   "cell_type": "code",
   "execution_count": 46,
   "metadata": {},
   "outputs": [],
   "source": [
    "h2=soup.find_all(\"h2\")"
   ]
  },
  {
   "cell_type": "code",
   "execution_count": 47,
   "metadata": {},
   "outputs": [],
   "source": [
    "name_episodes=[]"
   ]
  },
  {
   "cell_type": "code",
   "execution_count": 48,
   "metadata": {},
   "outputs": [
    {
     "name": "stdout",
     "output_type": "stream",
     "text": [
      "['Introduction', 'Advertising Attribution with Nathan Janos', 'Personalized Medicine with Niki Athanasiadou', '[MINI] p-values', '[MINI] type i / type ii errors', 'The Right (big data) Tool for the Job with Jay Shankar', '[MINI] Bayesian Updating', '[MINI] Experimental Design', 'Streetlight Outage and Crime Rate Analysis with Zach Seeskin', 'Data in Healthcare IT with Shahid Shah', 'Guerilla Skepticism on Wikipedia with Susan Gerbic', '[MINI] Ant Colony Optimization', '[MINI] Cross Validation', '[MINI] Noise!!', 'Game Science Dice with Louis Zocchi', 'Jackson Pollock Authentication Analysis with Kate Jones-Smith', '[MINI] Decision Tree Learning', '[MINI] Value of Information', 'Data Science at ZestFinance with Marick Sinay', 'Data Myths with Karl Mamer', '[MINI] Confidence Intervals', '[MINI] Selection Bias', 'Contest Announcement', '[MINI] Is the Internet Secure?', '[MINI] Monkeys on Typewriters', '[MINI] The T-Test', 'Mining the Social Web with Matthew Russell', 'Practicing and Communicating Data Science with Jeff Stanton', '[MINI] The Battle of the Sexes', '[MINI] The Girlfriend Equation', 'Economic Modeling and Prediction, Charitable Giving, and a Follow Up with Peter Backus', 'The Science of Online Data at Plenty of Fish with Thomas Levi', 'The Secret and the Global Consciousness Project with Alex Boklin', '[MINI] Belief in Santa']\n"
     ]
    }
   ],
   "source": [
    "for data in h2:\n",
    "    name_episodes.append(data.text)\n",
    "print(name_episodes)"
   ]
  },
  {
   "cell_type": "code",
   "execution_count": 49,
   "metadata": {},
   "outputs": [
    {
     "name": "stdout",
     "output_type": "stream",
     "text": [
      "Introduction\n",
      "Advertising Attribution with Nathan Janos\n",
      "Personalized Medicine with Niki Athanasiadou\n",
      "[MINI] p-values\n",
      "[MINI] type i / type ii errors\n",
      "The Right (big data) Tool for the Job with Jay Shankar\n",
      "[MINI] Bayesian Updating\n",
      "[MINI] Experimental Design\n",
      "Streetlight Outage and Crime Rate Analysis with Zach Seeskin\n",
      "Data in Healthcare IT with Shahid Shah\n",
      "Guerilla Skepticism on Wikipedia with Susan Gerbic\n",
      "[MINI] Ant Colony Optimization\n",
      "[MINI] Cross Validation\n",
      "[MINI] Noise!!\n",
      "Game Science Dice with Louis Zocchi\n",
      "Jackson Pollock Authentication Analysis with Kate Jones-Smith\n",
      "[MINI] Decision Tree Learning\n",
      "[MINI] Value of Information\n",
      "Data Science at ZestFinance with Marick Sinay\n",
      "Data Myths with Karl Mamer\n",
      "[MINI] Confidence Intervals\n",
      "[MINI] Selection Bias\n",
      "Contest Announcement\n",
      "[MINI] Is the Internet Secure?\n",
      "[MINI] Monkeys on Typewriters\n",
      "[MINI] The T-Test\n",
      "Mining the Social Web with Matthew Russell\n",
      "Practicing and Communicating Data Science with Jeff Stanton\n",
      "[MINI] The Battle of the Sexes\n",
      "[MINI] The Girlfriend Equation\n",
      "Economic Modeling and Prediction, Charitable Giving, and a Follow Up with Peter Backus\n",
      "The Science of Online Data at Plenty of Fish with Thomas Levi\n",
      "The Secret and the Global Consciousness Project with Alex Boklin\n",
      "[MINI] Belief in Santa\n"
     ]
    }
   ],
   "source": [
    "for name in name_episodes:\n",
    "    print(name)"
   ]
  },
  {
   "cell_type": "code",
   "execution_count": null,
   "metadata": {},
   "outputs": [],
   "source": []
  },
  {
   "cell_type": "code",
   "execution_count": null,
   "metadata": {},
   "outputs": [],
   "source": []
  }
 ],
 "metadata": {
  "kernelspec": {
   "display_name": "Python 3",
   "language": "python",
   "name": "python3"
  },
  "language_info": {
   "codemirror_mode": {
    "name": "ipython",
    "version": 3
   },
   "file_extension": ".py",
   "mimetype": "text/x-python",
   "name": "python",
   "nbconvert_exporter": "python",
   "pygments_lexer": "ipython3",
   "version": "3.8.2"
  }
 },
 "nbformat": 4,
 "nbformat_minor": 4
}
